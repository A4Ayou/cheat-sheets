{
 "cells": [
  {
   "cell_type": "markdown",
   "id": "a789668c",
   "metadata": {},
   "source": [
    "# <font color = blue> CHEAT SHEET - STATISTICS - BASICS </font>\n",
    "\n",
    "##### Notebook last update: 10/16/2023"
   ]
  },
  {
   "cell_type": "markdown",
   "id": "7bc81e37",
   "metadata": {},
   "source": [
    "# <font color = gray> Step 1 - Preparation of the Environment </font>"
   ]
  },
  {
   "cell_type": "markdown",
   "id": "04352352",
   "metadata": {},
   "source": [
    "## Import Packages"
   ]
  },
  {
   "cell_type": "code",
   "execution_count": 1,
   "id": "1d987763",
   "metadata": {},
   "outputs": [],
   "source": [
    "# Data manipulation\n",
    "import numpy as np\n",
    "import pandas as pd\n",
    "\n",
    "# Data visualization\n",
    "import matplotlib.pyplot as plt\n",
    "import seaborn as sns"
   ]
  },
  {
   "cell_type": "markdown",
   "id": "ee9148c5",
   "metadata": {},
   "source": [
    "## Set Notebook Parameters"
   ]
  },
  {
   "cell_type": "code",
   "execution_count": 7,
   "id": "eabfde98",
   "metadata": {},
   "outputs": [],
   "source": [
    "# Path to data\n",
    "path_data = \"../../data/stats-data/\"\n",
    "\n",
    "# Name of data\n",
    "name_df = \"df_basic_stats.csv\"\n",
    "\n",
    "# Column of interest\n",
    "name_column = \"age\""
   ]
  },
  {
   "cell_type": "markdown",
   "id": "580c8766",
   "metadata": {},
   "source": [
    "# <font color = gray> Step 2 - Loading of the Data </font>"
   ]
  },
  {
   "cell_type": "markdown",
   "id": "8745ddff",
   "metadata": {},
   "source": [
    "#### Read Pandas Dataframe"
   ]
  },
  {
   "cell_type": "code",
   "execution_count": 4,
   "id": "631824a2",
   "metadata": {},
   "outputs": [
    {
     "data": {
      "text/html": [
       "<div>\n",
       "<style scoped>\n",
       "    .dataframe tbody tr th:only-of-type {\n",
       "        vertical-align: middle;\n",
       "    }\n",
       "\n",
       "    .dataframe tbody tr th {\n",
       "        vertical-align: top;\n",
       "    }\n",
       "\n",
       "    .dataframe thead th {\n",
       "        text-align: right;\n",
       "    }\n",
       "</style>\n",
       "<table border=\"1\" class=\"dataframe\">\n",
       "  <thead>\n",
       "    <tr style=\"text-align: right;\">\n",
       "      <th></th>\n",
       "      <th>id</th>\n",
       "      <th>age</th>\n",
       "    </tr>\n",
       "  </thead>\n",
       "  <tbody>\n",
       "    <tr>\n",
       "      <th>0</th>\n",
       "      <td>1</td>\n",
       "      <td>22</td>\n",
       "    </tr>\n",
       "    <tr>\n",
       "      <th>1</th>\n",
       "      <td>2</td>\n",
       "      <td>28</td>\n",
       "    </tr>\n",
       "    <tr>\n",
       "      <th>2</th>\n",
       "      <td>3</td>\n",
       "      <td>21</td>\n",
       "    </tr>\n",
       "    <tr>\n",
       "      <th>3</th>\n",
       "      <td>4</td>\n",
       "      <td>26</td>\n",
       "    </tr>\n",
       "    <tr>\n",
       "      <th>4</th>\n",
       "      <td>5</td>\n",
       "      <td>31</td>\n",
       "    </tr>\n",
       "  </tbody>\n",
       "</table>\n",
       "</div>"
      ],
      "text/plain": [
       "   id  age\n",
       "0   1   22\n",
       "1   2   28\n",
       "2   3   21\n",
       "3   4   26\n",
       "4   5   31"
      ]
     },
     "execution_count": 4,
     "metadata": {},
     "output_type": "execute_result"
    }
   ],
   "source": [
    "df_stats = pd.read_csv(path_data + name_df)\n",
    "\n",
    "df_stats.head()"
   ]
  },
  {
   "cell_type": "markdown",
   "id": "aea8c84c",
   "metadata": {},
   "source": [
    "#### Extract Column to Create Numpy Array"
   ]
  },
  {
   "cell_type": "code",
   "execution_count": 10,
   "id": "58515c94",
   "metadata": {},
   "outputs": [
    {
     "data": {
      "text/plain": [
       "array([22, 28, 21, 26, 31, 26, 28, 26, 26, 23, 28, 30, 29, 34, 24, 28, 29,\n",
       "       32, 22, 28, 24, 31, 24, 32, 35, 23, 28, 33, 23, 22, 24, 35, 24, 28,\n",
       "       29, 27, 23, 33, 30, 34, 24, 26, 25, 26, 27, 32, 22, 29, 30, 33, 35,\n",
       "       23, 31, 28, 25, 29, 29, 26, 21, 22, 31, 30, 32, 32, 23, 28, 29, 21,\n",
       "       33, 31, 32, 33, 33, 29, 28, 24, 28, 21, 33, 30, 30, 32, 29, 21, 33,\n",
       "       28, 34, 29, 30, 26, 35, 28, 35, 23, 33, 27, 23, 23, 24, 22],\n",
       "      dtype=int64)"
      ]
     },
     "execution_count": 10,
     "metadata": {},
     "output_type": "execute_result"
    }
   ],
   "source": [
    "np_array = df_stats[name_column].to_numpy()\n",
    "\n",
    "np_array"
   ]
  },
  {
   "cell_type": "markdown",
   "id": "0b8e6f44",
   "metadata": {},
   "source": [
    "# <font color = gray> Step 3 - Basic Statistics Notions</font>"
   ]
  },
  {
   "cell_type": "markdown",
   "id": "e17b5845",
   "metadata": {},
   "source": [
    "## Section 1 - Definition: Sample vs. Population"
   ]
  },
  {
   "cell_type": "markdown",
   "id": "bfae3b2e",
   "metadata": {},
   "source": [
    "TODO: Write "
   ]
  },
  {
   "cell_type": "markdown",
   "id": "b3d34abb",
   "metadata": {},
   "source": [
    "## Section 2 - Measures of Central Tendency"
   ]
  },
  {
   "cell_type": "markdown",
   "id": "5b709f6f",
   "metadata": {},
   "source": [
    "### <font color = blue>Mean</font>\n",
    "\n",
    "\\begin{equation*}\n",
    "\\mu = \\frac{ \\sum_{i=1}^N X_i } X_{i}}{N}\n",
    "\\end{equation*}\n",
    "\n",
    "\\begin{equation*}\n",
    "\\mu = \\frac{2}{N}\n",
    "\\end{equation*}\n",
    "\n",
    "\\begin{equation*}\n",
    "\\sum_{i=1}^N X_i\n",
    "\\end{equation*}"
   ]
  },
  {
   "cell_type": "markdown",
   "id": "e1e9b3eb",
   "metadata": {},
   "source": [
    "#### Application"
   ]
  },
  {
   "cell_type": "code",
   "execution_count": 16,
   "id": "91965ac0",
   "metadata": {},
   "outputs": [
    {
     "name": "stdout",
     "output_type": "stream",
     "text": [
      "27.92\n"
     ]
    }
   ],
   "source": [
    "result = np.sum(np_array) / len(np_array)\n",
    "\n",
    "print(result)"
   ]
  },
  {
   "cell_type": "markdown",
   "id": "60066171",
   "metadata": {},
   "source": [
    "##### With pandas dataframe"
   ]
  },
  {
   "cell_type": "code",
   "execution_count": 11,
   "id": "e56a5e56",
   "metadata": {},
   "outputs": [
    {
     "name": "stdout",
     "output_type": "stream",
     "text": [
      "27.92\n"
     ]
    }
   ],
   "source": [
    "result = df_stats[name_column].mean()\n",
    "\n",
    "print(result)"
   ]
  },
  {
   "cell_type": "markdown",
   "id": "a564517b",
   "metadata": {},
   "source": [
    "##### With numpy array"
   ]
  },
  {
   "cell_type": "code",
   "execution_count": 13,
   "id": "49493724",
   "metadata": {},
   "outputs": [
    {
     "name": "stdout",
     "output_type": "stream",
     "text": [
      "27.92\n"
     ]
    }
   ],
   "source": [
    "result = np.mean(np_array)\n",
    "\n",
    "print(result)"
   ]
  },
  {
   "cell_type": "markdown",
   "id": "5ecd3bc1",
   "metadata": {},
   "source": [
    "### <font color = blue>Median</font>"
   ]
  },
  {
   "cell_type": "markdown",
   "id": "411881e0",
   "metadata": {},
   "source": [
    "##### With pandas dataframe"
   ]
  },
  {
   "cell_type": "code",
   "execution_count": 14,
   "id": "fa2fb0ac",
   "metadata": {},
   "outputs": [
    {
     "name": "stdout",
     "output_type": "stream",
     "text": [
      "28.0\n"
     ]
    }
   ],
   "source": [
    "result = df_stats[name_column].median()\n",
    "\n",
    "print(result)"
   ]
  },
  {
   "cell_type": "markdown",
   "id": "07ca718f",
   "metadata": {},
   "source": [
    "##### With numpy array"
   ]
  },
  {
   "cell_type": "code",
   "execution_count": 15,
   "id": "ef3f7531",
   "metadata": {},
   "outputs": [
    {
     "name": "stdout",
     "output_type": "stream",
     "text": [
      "28.0\n"
     ]
    }
   ],
   "source": [
    "result = np.median(np_array)\n",
    "\n",
    "print(result)"
   ]
  },
  {
   "cell_type": "markdown",
   "id": "1c70344f",
   "metadata": {},
   "source": [
    "### <font color = blue>Mode</font>"
   ]
  },
  {
   "cell_type": "markdown",
   "id": "8903d112",
   "metadata": {},
   "source": [
    "##### With pandas dataframe"
   ]
  },
  {
   "cell_type": "code",
   "execution_count": null,
   "id": "74e9b626",
   "metadata": {},
   "outputs": [],
   "source": []
  },
  {
   "cell_type": "markdown",
   "id": "f23363d4",
   "metadata": {},
   "source": [
    "##### With numpy array"
   ]
  },
  {
   "cell_type": "code",
   "execution_count": null,
   "id": "226398a0",
   "metadata": {},
   "outputs": [],
   "source": []
  },
  {
   "cell_type": "markdown",
   "id": "1d396ae3",
   "metadata": {},
   "source": [
    "## Section 3 - Measures of Spread/Dispersion"
   ]
  },
  {
   "cell_type": "markdown",
   "id": "e221f9bf",
   "metadata": {},
   "source": [
    "### <font color = blue>Range</font>"
   ]
  },
  {
   "cell_type": "code",
   "execution_count": null,
   "id": "cf0b298a",
   "metadata": {},
   "outputs": [],
   "source": []
  },
  {
   "cell_type": "markdown",
   "id": "fa60c014",
   "metadata": {},
   "source": [
    "### <font color = blue>Inter Quartile Range (IQR)</font>"
   ]
  },
  {
   "cell_type": "code",
   "execution_count": null,
   "id": "46ab4f15",
   "metadata": {},
   "outputs": [],
   "source": []
  },
  {
   "cell_type": "markdown",
   "id": "7d27aed9",
   "metadata": {},
   "source": [
    "### <font color = blue>Variance</font>"
   ]
  },
  {
   "cell_type": "markdown",
   "id": "98a60f15",
   "metadata": {},
   "source": [
    "#### Application to Pandas DataFrame\n",
    "Default function applies to corrected sample"
   ]
  },
  {
   "cell_type": "markdown",
   "id": "6a103012",
   "metadata": {},
   "source": [
    "##### With formula"
   ]
  },
  {
   "cell_type": "code",
   "execution_count": 28,
   "id": "8d3bf05f",
   "metadata": {},
   "outputs": [
    {
     "name": "stdout",
     "output_type": "stream",
     "text": [
      "16.55919191919192\n"
     ]
    }
   ],
   "source": [
    "result = np.sum((df_stats[name_column] - df_stats[name_column].mean())**2) / (df_stats.shape[0]-1)\n",
    "\n",
    "print(result)"
   ]
  },
  {
   "cell_type": "markdown",
   "id": "fa8e37b2",
   "metadata": {},
   "source": [
    "##### With built-in function"
   ]
  },
  {
   "cell_type": "code",
   "execution_count": 29,
   "id": "80c86ff8",
   "metadata": {},
   "outputs": [
    {
     "name": "stdout",
     "output_type": "stream",
     "text": [
      "16.559191919191917\n"
     ]
    }
   ],
   "source": [
    "result = df_stats[name_column].var()\n",
    "\n",
    "print(result)"
   ]
  },
  {
   "cell_type": "markdown",
   "id": "5b6d4450",
   "metadata": {},
   "source": [
    "#### Application to Numpy Array\n",
    "\n",
    "Default function applies to overall population"
   ]
  },
  {
   "cell_type": "markdown",
   "id": "7a3fe03b",
   "metadata": {},
   "source": [
    "##### With formula"
   ]
  },
  {
   "cell_type": "code",
   "execution_count": 32,
   "id": "d45c7bb9",
   "metadata": {},
   "outputs": [
    {
     "name": "stdout",
     "output_type": "stream",
     "text": [
      "16.393600000000003\n"
     ]
    }
   ],
   "source": [
    "result = np.sum((np_array - np.mean(np_array))**2) / (len(np_array))\n",
    "\n",
    "print(result)"
   ]
  },
  {
   "cell_type": "markdown",
   "id": "de7dbcc8",
   "metadata": {},
   "source": [
    "##### With built-in function"
   ]
  },
  {
   "cell_type": "code",
   "execution_count": 31,
   "id": "86999c2f",
   "metadata": {},
   "outputs": [
    {
     "data": {
      "text/plain": [
       "16.393600000000003"
      ]
     },
     "execution_count": 31,
     "metadata": {},
     "output_type": "execute_result"
    }
   ],
   "source": [
    "np.var(np_array)"
   ]
  },
  {
   "cell_type": "markdown",
   "id": "08b7b848",
   "metadata": {},
   "source": [
    "### <font color = blue>Standard Deviation</font>"
   ]
  },
  {
   "cell_type": "markdown",
   "id": "d2c84c6a",
   "metadata": {},
   "source": [
    "#### Application to Pandas DataFrame"
   ]
  },
  {
   "cell_type": "markdown",
   "id": "7c28c747",
   "metadata": {},
   "source": [
    "##### With formula"
   ]
  },
  {
   "cell_type": "code",
   "execution_count": 33,
   "id": "7b3e8ede",
   "metadata": {},
   "outputs": [
    {
     "name": "stdout",
     "output_type": "stream",
     "text": [
      "4.069298701151332\n"
     ]
    }
   ],
   "source": [
    "result = np.sqrt(np.sum((df_stats[name_column] - df_stats[name_column].mean())**2) / (df_stats.shape[0]-1))\n",
    "\n",
    "print(result)"
   ]
  },
  {
   "cell_type": "markdown",
   "id": "acbcf589",
   "metadata": {},
   "source": [
    "##### With built-in function"
   ]
  },
  {
   "cell_type": "code",
   "execution_count": 34,
   "id": "b243cfd9",
   "metadata": {},
   "outputs": [
    {
     "name": "stdout",
     "output_type": "stream",
     "text": [
      "4.069298701151332\n"
     ]
    }
   ],
   "source": [
    "result = df_stats[name_column].std()\n",
    "\n",
    "print(result)"
   ]
  },
  {
   "cell_type": "markdown",
   "id": "f2ab694b",
   "metadata": {},
   "source": [
    "#### Application to Numpy Array"
   ]
  },
  {
   "cell_type": "markdown",
   "id": "3ece43e8",
   "metadata": {},
   "source": [
    "##### With formula"
   ]
  },
  {
   "cell_type": "code",
   "execution_count": 35,
   "id": "66c46a5b",
   "metadata": {},
   "outputs": [
    {
     "name": "stdout",
     "output_type": "stream",
     "text": [
      "4.048901085479862\n"
     ]
    }
   ],
   "source": [
    "result = np.sqrt(np.sum((np_array - np.mean(np_array))**2) / (len(np_array)))\n",
    "\n",
    "print(result)"
   ]
  },
  {
   "cell_type": "markdown",
   "id": "1c49e285",
   "metadata": {},
   "source": [
    "##### With built-in function"
   ]
  },
  {
   "cell_type": "code",
   "execution_count": 36,
   "id": "f3ced0e5",
   "metadata": {},
   "outputs": [
    {
     "data": {
      "text/plain": [
       "4.048901085479862"
      ]
     },
     "execution_count": 36,
     "metadata": {},
     "output_type": "execute_result"
    }
   ],
   "source": [
    "np.std(np_array)"
   ]
  },
  {
   "cell_type": "markdown",
   "id": "15c468dc",
   "metadata": {},
   "source": [
    "## Section 4 - Statistical Moments"
   ]
  },
  {
   "cell_type": "code",
   "execution_count": null,
   "id": "305f2a49",
   "metadata": {},
   "outputs": [],
   "source": []
  },
  {
   "cell_type": "code",
   "execution_count": null,
   "id": "8fe6cead",
   "metadata": {},
   "outputs": [],
   "source": []
  }
 ],
 "metadata": {
  "kernelspec": {
   "display_name": "Python 3 (ipykernel)",
   "language": "python",
   "name": "python3"
  },
  "language_info": {
   "codemirror_mode": {
    "name": "ipython",
    "version": 3
   },
   "file_extension": ".py",
   "mimetype": "text/x-python",
   "name": "python",
   "nbconvert_exporter": "python",
   "pygments_lexer": "ipython3",
   "version": "3.9.13"
  }
 },
 "nbformat": 4,
 "nbformat_minor": 5
}
